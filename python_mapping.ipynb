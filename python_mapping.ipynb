{
 "cells": [
  {
   "cell_type": "markdown",
   "metadata": {},
   "source": [
    "# Python Mapping\n",
    "This notebook will gather data for Python mapping exercise.<br>\n",
    "The idea will be to explore different mapping technologies in the context of Python using NYC Open Data.\n",
    "\n",
    "The idea is the following:\n",
    "\n",
    "- Create a basic overview of how to create GIS maps in Python\n",
    "  - Static map\n",
    "  - Static map w/ tiles\n",
    "  - Choropleth map\n",
    "  - Choropleth map with Graduated Symbology\n",
    "  - Interactive map\n",
    "  - Interactive map with toggle between two different maps\n",
    "  - Web map deployment?"
   ]
  },
  {
   "cell_type": "markdown",
   "metadata": {},
   "source": []
  }
 ],
 "metadata": {
  "language_info": {
   "name": "python"
  }
 },
 "nbformat": 4,
 "nbformat_minor": 2
}
