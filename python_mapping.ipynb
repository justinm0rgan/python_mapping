{
 "cells": [
  {
   "cell_type": "markdown",
   "metadata": {},
   "source": [
    "# Python Mapping\n",
    "This notebook will gather data for Python mapping exercise.<br>\n",
    "The idea will be to explore different mapping technologies in the context of Python using NYC Open Data and US Census American Community Survey data.\n",
    "\n",
    "The idea is the following:\n",
    "\n",
    "- Create a basic overview of how to create GIS maps in Python\n",
    "  - Obtain geographic data\n",
    "  - Obtain census data (census api)\n",
    "  - Merge DataFrame with GeoDataFrame\n",
    "  - Static map\n",
    "  - Static map w/ basemap\n",
    "  - Choropleth map\n",
    "  - Choropleth map with Graduated Symbology\n",
    "  - Interactive map\n",
    "  - Interactive map with toggle between two different maps\n",
    "  - Web map deployment?\n",
    "\n",
    "Will use <a href=\"https://pypi.org/project/census/>\">census package</a> in Python to get:\n",
    "- Population\n",
    "- Median Age\n",
    "- Median Income\n",
    "- Poverty Level - will develop percent poverty level\n",
    "- Households with car - will develop percent with vehicle\n",
    "- Education - will develop percent college degree\n",
    "\n",
    "We will work with the `state_zipcode()` function within the `census` package.<br>\n",
    "We can grab <a href=\"https://data.cityofnewyork.us/Health/Modified-Zip-Code-Tabulation-Areas-MODZCTA-Map/5fzm-kpwv>\">MODZCTA shapefiles</a> from NYC Open data, and list the ZCTA to pull the census data with the API. We will rename the Census variables accordingly, develop the percent features and merge with the GeoDataFrame.\n",
    "\n",
    "Then we can get to mapping!!!"
   ]
  },
  {
   "cell_type": "code",
   "execution_count": 2,
   "metadata": {},
   "outputs": [],
   "source": [
    "# import packages\n",
    "import pandas as pd\n",
    "import numpy as np\n",
    "import geopandas as gpd\n",
    "import contextily as ctx\n",
    "import census\n",
    "from us import states\n",
    "\n",
    "# import census api key\n",
    "from src.config import CENSUS_API"
   ]
  },
  {
   "cell_type": "markdown",
   "metadata": {},
   "source": [
    "### MODZCTA Data\n",
    "We need to download the shapefile from NYC Open data for mapping, as well as construct a ZCTA list to pass into the census api."
   ]
  },
  {
   "cell_type": "code",
   "execution_count": 6,
   "metadata": {},
   "outputs": [
    {
     "data": {
      "text/html": [
       "<div>\n",
       "<style scoped>\n",
       "    .dataframe tbody tr th:only-of-type {\n",
       "        vertical-align: middle;\n",
       "    }\n",
       "\n",
       "    .dataframe tbody tr th {\n",
       "        vertical-align: top;\n",
       "    }\n",
       "\n",
       "    .dataframe thead th {\n",
       "        text-align: right;\n",
       "    }\n",
       "</style>\n",
       "<table border=\"1\" class=\"dataframe\">\n",
       "  <thead>\n",
       "    <tr style=\"text-align: right;\">\n",
       "      <th></th>\n",
       "      <th>MODZCTA</th>\n",
       "      <th>label</th>\n",
       "      <th>ZCTA</th>\n",
       "      <th>pop_est</th>\n",
       "      <th>the_geom</th>\n",
       "    </tr>\n",
       "  </thead>\n",
       "  <tbody>\n",
       "    <tr>\n",
       "      <th>0</th>\n",
       "      <td>10001</td>\n",
       "      <td>10001, 10118</td>\n",
       "      <td>10001, 10119, 10199</td>\n",
       "      <td>23072</td>\n",
       "      <td>MULTIPOLYGON (((-73.98774438827894 40.74406551...</td>\n",
       "    </tr>\n",
       "    <tr>\n",
       "      <th>1</th>\n",
       "      <td>10002</td>\n",
       "      <td>10002</td>\n",
       "      <td>10002</td>\n",
       "      <td>74993</td>\n",
       "      <td>MULTIPOLYGON (((-73.99750380833868 40.71407144...</td>\n",
       "    </tr>\n",
       "    <tr>\n",
       "      <th>2</th>\n",
       "      <td>10003</td>\n",
       "      <td>10003</td>\n",
       "      <td>10003</td>\n",
       "      <td>54682</td>\n",
       "      <td>MULTIPOLYGON (((-73.98863576728334 40.72293099...</td>\n",
       "    </tr>\n",
       "    <tr>\n",
       "      <th>3</th>\n",
       "      <td>10026</td>\n",
       "      <td>10026</td>\n",
       "      <td>10026</td>\n",
       "      <td>39363</td>\n",
       "      <td>MULTIPOLYGON (((-73.96200720826798 40.80550908...</td>\n",
       "    </tr>\n",
       "    <tr>\n",
       "      <th>4</th>\n",
       "      <td>10004</td>\n",
       "      <td>10004</td>\n",
       "      <td>10004</td>\n",
       "      <td>3028</td>\n",
       "      <td>MULTIPOLYGON (((-74.00826694529984 40.70771979...</td>\n",
       "    </tr>\n",
       "  </tbody>\n",
       "</table>\n",
       "</div>"
      ],
      "text/plain": [
       "   MODZCTA         label                 ZCTA  pop_est  \\\n",
       "0    10001  10001, 10118  10001, 10119, 10199    23072   \n",
       "1    10002         10002                10002    74993   \n",
       "2    10003         10003                10003    54682   \n",
       "3    10026         10026                10026    39363   \n",
       "4    10004         10004                10004     3028   \n",
       "\n",
       "                                            the_geom  \n",
       "0  MULTIPOLYGON (((-73.98774438827894 40.74406551...  \n",
       "1  MULTIPOLYGON (((-73.99750380833868 40.71407144...  \n",
       "2  MULTIPOLYGON (((-73.98863576728334 40.72293099...  \n",
       "3  MULTIPOLYGON (((-73.96200720826798 40.80550908...  \n",
       "4  MULTIPOLYGON (((-74.00826694529984 40.70771979...  "
      ]
     },
     "execution_count": 6,
     "metadata": {},
     "output_type": "execute_result"
    }
   ],
   "source": [
    "# load downloaded shapefile\n",
    "df_modacta=pd.read_csv(\"./data/Modified_Zip_Code_Tabulation_Areas__MODZCTA__20240417.csv\")\n",
    "df_modacta.head()"
   ]
  },
  {
   "cell_type": "code",
   "execution_count": 3,
   "metadata": {},
   "outputs": [],
   "source": [
    "# set api key\n",
    "c = census.Census(CENSUS_API)"
   ]
  },
  {
   "cell_type": "markdown",
   "metadata": {},
   "source": [
    "We will construct a dictionary of variables with the desired column name as the key, and the actual census variable name as the value. This will allow us to easily rename the columns."
   ]
  },
  {
   "cell_type": "code",
   "execution_count": 4,
   "metadata": {},
   "outputs": [],
   "source": [
    "# dictionary of variables\n",
    "var_dict = {\n",
    "  'name': 'NAME',\n",
    "  'population': 'B01003_001E',\n",
    "  'median_age': 'B01002_001E',\n",
    "  'median_household_income': 'B19013_001E',\n",
    "  'poverty_level': 'B17001_002E',\n",
    "  'white': 'B02001_002E',\n",
    "  'black': 'B02001_003E',\n",
    "  'american_indian_alaskan': 'B02001_004E',\n",
    "  'asian': 'B02001_005E',\n",
    "  'nhpi': 'B02001_006E',\n",
    "  'other': 'B02001_007E',\n",
    "  'two_or_more': 'B02001_008E',\n",
    "  'hispanic': 'B03002_001E',\n",
    "  'total_households': 'B08201_001E',\n",
    "  'total_households_car': 'B08201_002E',\n",
    "  'pop_25_older': 'B15003_001E',\n",
    "  'pop_25_older_hs_grad': 'B15003_017E',\n",
    "  'pop_25_older_associates': 'B15003_019E',\n",
    "  'pop_25_older_bachelors': 'B15003_020E',\n",
    "  'pop_25_older_graduate': 'B15003_021E',\n",
    "}\n",
    "\n",
    "# get list of values for api call\n",
    "variables=list(var_dict.values())"
   ]
  },
  {
   "cell_type": "code",
   "execution_count": null,
   "metadata": {},
   "outputs": [],
   "source": [
    "# api call\n",
    "c.acs5.state_zipcode(fields=variables,\n",
    "                     state_fips=states.NY.fips,\n",
    "                     year=2020,\n",
    "                     zcta=)"
   ]
  }
 ],
 "metadata": {
  "kernelspec": {
   "display_name": "geo_env",
   "language": "python",
   "name": "python3"
  },
  "language_info": {
   "codemirror_mode": {
    "name": "ipython",
    "version": 3
   },
   "file_extension": ".py",
   "mimetype": "text/x-python",
   "name": "python",
   "nbconvert_exporter": "python",
   "pygments_lexer": "ipython3",
   "version": "3.11.8"
  }
 },
 "nbformat": 4,
 "nbformat_minor": 2
}
