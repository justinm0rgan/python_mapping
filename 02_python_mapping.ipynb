{
 "cells": [
  {
   "cell_type": "markdown",
   "metadata": {},
   "source": [
    "# Mapping\n",
    "This notebook will demonstrate mapping US Census data in Python.<br>\n",
    "\n",
    "We will show the following:\n",
    "\n",
    "- Merge DataFrame with GeoDataFrame\n",
    "- Static map\n",
    "- Static map w/ basemap\n",
    "- Choropleth map\n",
    "- Choropleth map with Graduated Symbology\n",
    "- Interactive map\n",
    "- Interactive map with toggle between two different maps\n",
    "- Web map deployment"
   ]
  },
  {
   "cell_type": "code",
   "execution_count": 1,
   "metadata": {},
   "outputs": [],
   "source": [
    "# import necessary pacakges\n",
    "import pandas as pd\n",
    "import numpy as np\n",
    "import geopandas as gpd\n",
    "import contextily as ctx\n",
    "import folium as f\n",
    "import matplotlib.pyplot as plt\n",
    "from matplotlib.ticker import FuncFormatter"
   ]
  },
  {
   "cell_type": "code",
   "execution_count": 7,
   "metadata": {},
   "outputs": [],
   "source": [
    "# load data\n",
    "df_acs_2020=pd.read_pickle(\"./data/df_acs_2020_cleaned.pkl\")\n",
    "gdf=gpd.read_file(\"./data/shp/Modified Zip Code Tabulation Areas (MODZCTA)_20240418/geo_export_bdb2fc16-3964-47c7-a04d-4d106b707aaf.shp\")\n",
    "# format cols\n",
    "gdf.columns=[col.lower() for col in gdf.columns]"
   ]
  },
  {
   "cell_type": "markdown",
   "metadata": {},
   "source": [
    "## Shapefile joining\n",
    "Let's write a function that will:\n",
    "1) Merge df with shapefile - get Census data in same dataframe as census data.\n",
    "2) Convert to GeoDataFrame - convert to mappable dataframe\n",
    "3) Transform crs to 2263 - best coordinate reference system for NYC"
   ]
  },
  {
   "cell_type": "code",
   "execution_count": 4,
   "metadata": {},
   "outputs": [],
   "source": [
    "def merge_and_transform(df,gdf,left_on='zip',right_on='modzcta',crs=2263):\n",
    "    \"\"\"\n",
    "    Takes in df (DataFrame) and gdf (GeoDataFrame), joins them and transforms crs (coordinate reference system)\n",
    "\n",
    "    Parameters:\n",
    "    - df (DataFrame): DataFrame that will be right in the join\n",
    "    - gdf (GeoDataFrame): GeoDataFrame that will be left in the join\n",
    "    - left_on (str,Optional): The column the DataFrame will use to join, defaults to zip\n",
    "    - right_on (str,Optional): The column the GeoDataFrame will use to join, defaults to modzcta\n",
    "    - crs (int, Optional): The coordinate reference system to transform, defaults to 2263\n",
    "\n",
    "    Returns:\n",
    "    Merged GeoDataFrame\n",
    "    \"\"\"\n",
    "    # merge df with gdf\n",
    "    df_shp=df.merge(gdf,left_on=left_on,right_on=right_on)\n",
    "    # transform to gdf\n",
    "    gdf_merged=gpd.GeoDataFrame(df_shp)\n",
    "    # transform crs\n",
    "    gdf_merged=gdf_merged.to_crs(2263)\n",
    "\n",
    "    return gdf_merged"
   ]
  },
  {
   "cell_type": "markdown",
   "metadata": {},
   "source": [
    "Apply function to create mappable GeoDataFrame."
   ]
  },
  {
   "cell_type": "code",
   "execution_count": 10,
   "metadata": {},
   "outputs": [
    {
     "name": "stdout",
     "output_type": "stream",
     "text": [
      "<class 'geopandas.geodataframe.GeoDataFrame'>\n",
      "RangeIndex: 178 entries, 0 to 177\n",
      "Data columns (total 5 columns):\n",
      " #   Column    Non-Null Count  Dtype   \n",
      "---  ------    --------------  -----   \n",
      " 0   modzcta   178 non-null    object  \n",
      " 1   label     177 non-null    object  \n",
      " 2   zcta      178 non-null    object  \n",
      " 3   pop_est   178 non-null    float64 \n",
      " 4   geometry  178 non-null    geometry\n",
      "dtypes: float64(1), geometry(1), object(3)\n",
      "memory usage: 7.1+ KB\n"
     ]
    }
   ],
   "source": [
    "gdf.info()"
   ]
  },
  {
   "cell_type": "code",
   "execution_count": 11,
   "metadata": {},
   "outputs": [
    {
     "name": "stdout",
     "output_type": "stream",
     "text": [
      "<class 'pandas.core.frame.DataFrame'>\n",
      "RangeIndex: 214 entries, 0 to 213\n",
      "Data columns (total 15 columns):\n",
      " #   Column                       Non-Null Count  Dtype  \n",
      "---  ------                       --------------  -----  \n",
      " 0   zcta                         214 non-null    object \n",
      " 1   population                   214 non-null    float64\n",
      " 2   median_age                   214 non-null    float64\n",
      " 3   median_household_income      214 non-null    float64\n",
      " 4   poverty_level                214 non-null    float64\n",
      " 5   total_households             214 non-null    float64\n",
      " 6   total_households_no_vehicle  214 non-null    float64\n",
      " 7   pop_25_older                 214 non-null    float64\n",
      " 8   pop_25_older_hs_grad         214 non-null    float64\n",
      " 9   pop_25_older_associates      214 non-null    float64\n",
      " 10  pop_25_older_bachelors       214 non-null    float64\n",
      " 11  pop_25_older_graduate        214 non-null    float64\n",
      " 12  perc_poverty_level           185 non-null    float64\n",
      " 13  perc_hh_w_vehicle            183 non-null    float64\n",
      " 14  perc_college_degree          185 non-null    float64\n",
      "dtypes: float64(14), object(1)\n",
      "memory usage: 25.2+ KB\n"
     ]
    }
   ],
   "source": [
    "df_acs_2020.info()"
   ]
  },
  {
   "cell_type": "code",
   "execution_count": null,
   "metadata": {},
   "outputs": [],
   "source": []
  }
 ],
 "metadata": {
  "kernelspec": {
   "display_name": "geo_env2",
   "language": "python",
   "name": "python3"
  },
  "language_info": {
   "codemirror_mode": {
    "name": "ipython",
    "version": 3
   },
   "file_extension": ".py",
   "mimetype": "text/x-python",
   "name": "python",
   "nbconvert_exporter": "python",
   "pygments_lexer": "ipython3",
   "version": "3.11.8"
  }
 },
 "nbformat": 4,
 "nbformat_minor": 2
}
